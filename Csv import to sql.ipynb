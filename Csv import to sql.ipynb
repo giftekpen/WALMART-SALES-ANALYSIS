{
 "cells": [
  {
   "cell_type": "code",
   "execution_count": 3,
   "id": "01ae5e2e-4ec2-44e9-892f-182832b7d7c2",
   "metadata": {},
   "outputs": [
    {
     "name": "stdout",
     "output_type": "stream",
     "text": [
      "Requirement already satisfied: pandas in c:\\users\\hp pc\\anaconda3\\lib\\site-packages (2.2.2)\n",
      "Requirement already satisfied: psycopg2 in c:\\users\\hp pc\\anaconda3\\lib\\site-packages (2.9.10)\n",
      "Requirement already satisfied: numpy>=1.26.0 in c:\\users\\hp pc\\anaconda3\\lib\\site-packages (from pandas) (1.26.4)\n",
      "Requirement already satisfied: python-dateutil>=2.8.2 in c:\\users\\hp pc\\anaconda3\\lib\\site-packages (from pandas) (2.9.0.post0)\n",
      "Requirement already satisfied: pytz>=2020.1 in c:\\users\\hp pc\\anaconda3\\lib\\site-packages (from pandas) (2024.1)\n",
      "Requirement already satisfied: tzdata>=2022.7 in c:\\users\\hp pc\\anaconda3\\lib\\site-packages (from pandas) (2023.3)\n",
      "Requirement already satisfied: six>=1.5 in c:\\users\\hp pc\\anaconda3\\lib\\site-packages (from python-dateutil>=2.8.2->pandas) (1.16.0)\n",
      "Note: you may need to restart the kernel to use updated packages.\n"
     ]
    }
   ],
   "source": [
    "pip install pandas psycopg2"
   ]
  },
  {
   "cell_type": "code",
   "execution_count": 3,
   "id": "f14b5d54-8e03-46f0-ab69-f73c24459db7",
   "metadata": {},
   "outputs": [],
   "source": [
    "#import required libraries\n",
    "import pandas as pd\n",
    "import os\n",
    "import psycopg2\n",
    "from sqlalchemy import create_engine"
   ]
  },
  {
   "cell_type": "code",
   "execution_count": 3,
   "id": "792d20ff-7f48-43ab-8dd5-6153962a39bb",
   "metadata": {},
   "outputs": [],
   "source": [
    "# set up connection to postgresql\n",
    "db_name = \"walmart\"\n",
    "user = \"postgres\"\n",
    "password = \"april200\"\n",
    "host = \"localhost\"\n",
    "port = 5432\n",
    "\n",
    "engine = create_engine(f'postgresql://{user}:{password}@{host}:{port}/{db_name}')"
   ]
  },
  {
   "cell_type": "code",
   "execution_count": 7,
   "id": "eda71ea9-f392-498c-8fc6-39901e8f928a",
   "metadata": {},
   "outputs": [
    {
     "name": "stdout",
     "output_type": "stream",
     "text": [
      "Successfully imported features\n",
      "Successfully imported stores\n",
      "Successfully imported test\n",
      "Successfully imported train\n"
     ]
    }
   ],
   "source": [
    "# Folder containing CSV files\n",
    "folder_path = r\"C:\\Users\\hp pc\\Documents\\walmart file\"\n",
    "\n",
    "# Import each CSV file\n",
    "for filename in os.listdir(folder_path):\n",
    "    if filename.endswith('.csv'):\n",
    "        file_path = os.path.join(folder_path, filename)\n",
    "        df = pd.read_csv(file_path, header = 0)\n",
    "        \n",
    "        # Clean column names\n",
    "        df.columns = df.columns.str.lower().str.replace(' ', '_').str.replace(r'[^\\w]', '')\n",
    "\n",
    "        # Derive table name\n",
    "        table_name = os.path.splitext(filename)[0].lower()\n",
    "        \n",
    "        # Write to PostgreSQL\n",
    "        df.to_sql(table_name, engine, if_exists='replace', index=False)\n",
    "        print(f\"Successfully imported {table_name}\")\n"
   ]
  },
  {
   "cell_type": "code",
   "execution_count": null,
   "id": "7236dbea-8a79-4ebe-b128-8f3485969ae5",
   "metadata": {},
   "outputs": [],
   "source": []
  }
 ],
 "metadata": {
  "kernelspec": {
   "display_name": "Python 3 (ipykernel)",
   "language": "python",
   "name": "python3"
  },
  "language_info": {
   "codemirror_mode": {
    "name": "ipython",
    "version": 3
   },
   "file_extension": ".py",
   "mimetype": "text/x-python",
   "name": "python",
   "nbconvert_exporter": "python",
   "pygments_lexer": "ipython3",
   "version": "3.12.4"
  }
 },
 "nbformat": 4,
 "nbformat_minor": 5
}
